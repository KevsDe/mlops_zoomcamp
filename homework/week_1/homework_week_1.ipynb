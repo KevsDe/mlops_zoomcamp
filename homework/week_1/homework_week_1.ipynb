{
 "cells": [
  {
   "cell_type": "code",
   "execution_count": 1,
   "id": "ab75a74b-2a36-4330-baa8-1c4b70375c30",
   "metadata": {},
   "outputs": [
    {
     "name": "stdout",
     "output_type": "stream",
     "text": [
      "--2023-05-20 22:57:46--  https://d37ci6vzurychx.cloudfront.net/trip-data/yellow_tripdata_2022-01.parquet\n",
      "Resolving d37ci6vzurychx.cloudfront.net (d37ci6vzurychx.cloudfront.net)... 18.67.246.47, 18.67.246.176, 18.67.246.167, ...\n",
      "Connecting to d37ci6vzurychx.cloudfront.net (d37ci6vzurychx.cloudfront.net)|18.67.246.47|:443... connected.\n",
      "HTTP request sent, awaiting response... 200 OK\n",
      "Length: 38139949 (36M) [application/x-www-form-urlencoded]\n",
      "Saving to: ‘yellow_tripdata_2022-01.parquet’\n",
      "\n",
      "yellow_tripdata_202 100%[===================>]  36.37M  5.37MB/s    in 7.3s    \n",
      "\n",
      "2023-05-20 22:57:53 (4.98 MB/s) - ‘yellow_tripdata_2022-01.parquet’ saved [38139949/38139949]\n",
      "\n"
     ]
    }
   ],
   "source": [
    "!wget https://d37ci6vzurychx.cloudfront.net/trip-data/yellow_tripdata_2022-01.parquet"
   ]
  },
  {
   "cell_type": "code",
   "execution_count": 2,
   "id": "d6b94436-44d5-4e53-9d9d-d0b4e815ff37",
   "metadata": {},
   "outputs": [
    {
     "name": "stdout",
     "output_type": "stream",
     "text": [
      "--2023-05-20 22:58:14--  https://d37ci6vzurychx.cloudfront.net/trip-data/yellow_tripdata_2022-02.parquet\n",
      "Resolving d37ci6vzurychx.cloudfront.net (d37ci6vzurychx.cloudfront.net)... 18.67.246.47, 18.67.246.176, 18.67.246.167, ...\n",
      "Connecting to d37ci6vzurychx.cloudfront.net (d37ci6vzurychx.cloudfront.net)|18.67.246.47|:443... connected.\n",
      "HTTP request sent, awaiting response... 200 OK\n",
      "Length: 45616512 (44M) [application/x-www-form-urlencoded]\n",
      "Saving to: ‘yellow_tripdata_2022-02.parquet’\n",
      "\n",
      "yellow_tripdata_202 100%[===================>]  43.50M  5.71MB/s    in 9.7s    \n",
      "\n",
      "2023-05-20 22:58:24 (4.49 MB/s) - ‘yellow_tripdata_2022-02.parquet’ saved [45616512/45616512]\n",
      "\n"
     ]
    }
   ],
   "source": [
    "!wget https://d37ci6vzurychx.cloudfront.net/trip-data/yellow_tripdata_2022-02.parquet"
   ]
  },
  {
   "cell_type": "code",
   "execution_count": 107,
   "id": "8ed3d325-5860-41e3-93af-15399a2c31a6",
   "metadata": {},
   "outputs": [],
   "source": [
    "import pandas as pd \n",
    "import matplotlib.pyplot as plt\n",
    "from sklearn.feature_extraction import DictVectorizer\n",
    "from sklearn.linear_model import LinearRegression\n",
    "from sklearn.metrics import mean_squared_error"
   ]
  },
  {
   "cell_type": "code",
   "execution_count": 122,
   "id": "1b7ffc40-d8f5-4786-b74d-75e151aae6cd",
   "metadata": {},
   "outputs": [],
   "source": [
    "import warnings\n",
    "warnings.filterwarnings(\"ignore\")"
   ]
  },
  {
   "cell_type": "code",
   "execution_count": 49,
   "id": "60aab7a5-9d6c-453d-a7d3-c789b478ac56",
   "metadata": {},
   "outputs": [],
   "source": [
    "df = pd.read_parquet(\"yellow_tripdata_2022-01.parquet\")"
   ]
  },
  {
   "cell_type": "code",
   "execution_count": 50,
   "id": "c8f9bdb6-7cda-4fa4-abec-c61e5b83d535",
   "metadata": {},
   "outputs": [
    {
     "data": {
      "text/plain": [
       "(2463931, 19)"
      ]
     },
     "execution_count": 50,
     "metadata": {},
     "output_type": "execute_result"
    }
   ],
   "source": [
    "# Question 1\n",
    "df.shape"
   ]
  },
  {
   "cell_type": "code",
   "execution_count": 51,
   "id": "cd64d09b-ce3c-4774-808b-3bab8eff591c",
   "metadata": {},
   "outputs": [
    {
     "data": {
      "text/html": [
       "<div>\n",
       "<style scoped>\n",
       "    .dataframe tbody tr th:only-of-type {\n",
       "        vertical-align: middle;\n",
       "    }\n",
       "\n",
       "    .dataframe tbody tr th {\n",
       "        vertical-align: top;\n",
       "    }\n",
       "\n",
       "    .dataframe thead th {\n",
       "        text-align: right;\n",
       "    }\n",
       "</style>\n",
       "<table border=\"1\" class=\"dataframe\">\n",
       "  <thead>\n",
       "    <tr style=\"text-align: right;\">\n",
       "      <th></th>\n",
       "      <th>VendorID</th>\n",
       "      <th>tpep_pickup_datetime</th>\n",
       "      <th>tpep_dropoff_datetime</th>\n",
       "      <th>passenger_count</th>\n",
       "      <th>trip_distance</th>\n",
       "      <th>RatecodeID</th>\n",
       "      <th>store_and_fwd_flag</th>\n",
       "      <th>PULocationID</th>\n",
       "      <th>DOLocationID</th>\n",
       "      <th>payment_type</th>\n",
       "      <th>fare_amount</th>\n",
       "      <th>extra</th>\n",
       "      <th>mta_tax</th>\n",
       "      <th>tip_amount</th>\n",
       "      <th>tolls_amount</th>\n",
       "      <th>improvement_surcharge</th>\n",
       "      <th>total_amount</th>\n",
       "      <th>congestion_surcharge</th>\n",
       "      <th>airport_fee</th>\n",
       "    </tr>\n",
       "  </thead>\n",
       "  <tbody>\n",
       "    <tr>\n",
       "      <th>0</th>\n",
       "      <td>1</td>\n",
       "      <td>2022-01-01 00:35:40</td>\n",
       "      <td>2022-01-01 00:53:29</td>\n",
       "      <td>2.0</td>\n",
       "      <td>3.80</td>\n",
       "      <td>1.0</td>\n",
       "      <td>N</td>\n",
       "      <td>142</td>\n",
       "      <td>236</td>\n",
       "      <td>1</td>\n",
       "      <td>14.5</td>\n",
       "      <td>3.0</td>\n",
       "      <td>0.5</td>\n",
       "      <td>3.65</td>\n",
       "      <td>0.0</td>\n",
       "      <td>0.3</td>\n",
       "      <td>21.95</td>\n",
       "      <td>2.5</td>\n",
       "      <td>0.0</td>\n",
       "    </tr>\n",
       "    <tr>\n",
       "      <th>1</th>\n",
       "      <td>1</td>\n",
       "      <td>2022-01-01 00:33:43</td>\n",
       "      <td>2022-01-01 00:42:07</td>\n",
       "      <td>1.0</td>\n",
       "      <td>2.10</td>\n",
       "      <td>1.0</td>\n",
       "      <td>N</td>\n",
       "      <td>236</td>\n",
       "      <td>42</td>\n",
       "      <td>1</td>\n",
       "      <td>8.0</td>\n",
       "      <td>0.5</td>\n",
       "      <td>0.5</td>\n",
       "      <td>4.00</td>\n",
       "      <td>0.0</td>\n",
       "      <td>0.3</td>\n",
       "      <td>13.30</td>\n",
       "      <td>0.0</td>\n",
       "      <td>0.0</td>\n",
       "    </tr>\n",
       "    <tr>\n",
       "      <th>2</th>\n",
       "      <td>2</td>\n",
       "      <td>2022-01-01 00:53:21</td>\n",
       "      <td>2022-01-01 01:02:19</td>\n",
       "      <td>1.0</td>\n",
       "      <td>0.97</td>\n",
       "      <td>1.0</td>\n",
       "      <td>N</td>\n",
       "      <td>166</td>\n",
       "      <td>166</td>\n",
       "      <td>1</td>\n",
       "      <td>7.5</td>\n",
       "      <td>0.5</td>\n",
       "      <td>0.5</td>\n",
       "      <td>1.76</td>\n",
       "      <td>0.0</td>\n",
       "      <td>0.3</td>\n",
       "      <td>10.56</td>\n",
       "      <td>0.0</td>\n",
       "      <td>0.0</td>\n",
       "    </tr>\n",
       "    <tr>\n",
       "      <th>3</th>\n",
       "      <td>2</td>\n",
       "      <td>2022-01-01 00:25:21</td>\n",
       "      <td>2022-01-01 00:35:23</td>\n",
       "      <td>1.0</td>\n",
       "      <td>1.09</td>\n",
       "      <td>1.0</td>\n",
       "      <td>N</td>\n",
       "      <td>114</td>\n",
       "      <td>68</td>\n",
       "      <td>2</td>\n",
       "      <td>8.0</td>\n",
       "      <td>0.5</td>\n",
       "      <td>0.5</td>\n",
       "      <td>0.00</td>\n",
       "      <td>0.0</td>\n",
       "      <td>0.3</td>\n",
       "      <td>11.80</td>\n",
       "      <td>2.5</td>\n",
       "      <td>0.0</td>\n",
       "    </tr>\n",
       "    <tr>\n",
       "      <th>4</th>\n",
       "      <td>2</td>\n",
       "      <td>2022-01-01 00:36:48</td>\n",
       "      <td>2022-01-01 01:14:20</td>\n",
       "      <td>1.0</td>\n",
       "      <td>4.30</td>\n",
       "      <td>1.0</td>\n",
       "      <td>N</td>\n",
       "      <td>68</td>\n",
       "      <td>163</td>\n",
       "      <td>1</td>\n",
       "      <td>23.5</td>\n",
       "      <td>0.5</td>\n",
       "      <td>0.5</td>\n",
       "      <td>3.00</td>\n",
       "      <td>0.0</td>\n",
       "      <td>0.3</td>\n",
       "      <td>30.30</td>\n",
       "      <td>2.5</td>\n",
       "      <td>0.0</td>\n",
       "    </tr>\n",
       "  </tbody>\n",
       "</table>\n",
       "</div>"
      ],
      "text/plain": [
       "   VendorID tpep_pickup_datetime tpep_dropoff_datetime  passenger_count   \n",
       "0         1  2022-01-01 00:35:40   2022-01-01 00:53:29              2.0  \\\n",
       "1         1  2022-01-01 00:33:43   2022-01-01 00:42:07              1.0   \n",
       "2         2  2022-01-01 00:53:21   2022-01-01 01:02:19              1.0   \n",
       "3         2  2022-01-01 00:25:21   2022-01-01 00:35:23              1.0   \n",
       "4         2  2022-01-01 00:36:48   2022-01-01 01:14:20              1.0   \n",
       "\n",
       "   trip_distance  RatecodeID store_and_fwd_flag  PULocationID  DOLocationID   \n",
       "0           3.80         1.0                  N           142           236  \\\n",
       "1           2.10         1.0                  N           236            42   \n",
       "2           0.97         1.0                  N           166           166   \n",
       "3           1.09         1.0                  N           114            68   \n",
       "4           4.30         1.0                  N            68           163   \n",
       "\n",
       "   payment_type  fare_amount  extra  mta_tax  tip_amount  tolls_amount   \n",
       "0             1         14.5    3.0      0.5        3.65           0.0  \\\n",
       "1             1          8.0    0.5      0.5        4.00           0.0   \n",
       "2             1          7.5    0.5      0.5        1.76           0.0   \n",
       "3             2          8.0    0.5      0.5        0.00           0.0   \n",
       "4             1         23.5    0.5      0.5        3.00           0.0   \n",
       "\n",
       "   improvement_surcharge  total_amount  congestion_surcharge  airport_fee  \n",
       "0                    0.3         21.95                   2.5          0.0  \n",
       "1                    0.3         13.30                   0.0          0.0  \n",
       "2                    0.3         10.56                   0.0          0.0  \n",
       "3                    0.3         11.80                   2.5          0.0  \n",
       "4                    0.3         30.30                   2.5          0.0  "
      ]
     },
     "execution_count": 51,
     "metadata": {},
     "output_type": "execute_result"
    }
   ],
   "source": [
    "df.head()"
   ]
  },
  {
   "cell_type": "code",
   "execution_count": 52,
   "id": "ca68491c-6163-4935-aa99-ef43c3f444b4",
   "metadata": {},
   "outputs": [],
   "source": [
    "df[\"duration\"] = (df[\"tpep_dropoff_datetime\"] - df[\"tpep_pickup_datetime\"])"
   ]
  },
  {
   "cell_type": "code",
   "execution_count": 53,
   "id": "8ebb9b55-1993-4eae-95df-2db8c87f07ac",
   "metadata": {},
   "outputs": [],
   "source": [
    "df[\"duration\"] = df[\"duration\"].apply(lambda x:x.total_seconds() / 60)"
   ]
  },
  {
   "cell_type": "code",
   "execution_count": 54,
   "id": "c34a00c3-1dbc-4b85-992e-ca0b91265ae2",
   "metadata": {},
   "outputs": [
    {
     "data": {
      "text/html": [
       "<div>\n",
       "<style scoped>\n",
       "    .dataframe tbody tr th:only-of-type {\n",
       "        vertical-align: middle;\n",
       "    }\n",
       "\n",
       "    .dataframe tbody tr th {\n",
       "        vertical-align: top;\n",
       "    }\n",
       "\n",
       "    .dataframe thead th {\n",
       "        text-align: right;\n",
       "    }\n",
       "</style>\n",
       "<table border=\"1\" class=\"dataframe\">\n",
       "  <thead>\n",
       "    <tr style=\"text-align: right;\">\n",
       "      <th></th>\n",
       "      <th>VendorID</th>\n",
       "      <th>tpep_pickup_datetime</th>\n",
       "      <th>tpep_dropoff_datetime</th>\n",
       "      <th>duration</th>\n",
       "    </tr>\n",
       "  </thead>\n",
       "  <tbody>\n",
       "    <tr>\n",
       "      <th>0</th>\n",
       "      <td>1</td>\n",
       "      <td>2022-01-01 00:35:40</td>\n",
       "      <td>2022-01-01 00:53:29</td>\n",
       "      <td>17.816667</td>\n",
       "    </tr>\n",
       "    <tr>\n",
       "      <th>1</th>\n",
       "      <td>1</td>\n",
       "      <td>2022-01-01 00:33:43</td>\n",
       "      <td>2022-01-01 00:42:07</td>\n",
       "      <td>8.400000</td>\n",
       "    </tr>\n",
       "    <tr>\n",
       "      <th>2</th>\n",
       "      <td>2</td>\n",
       "      <td>2022-01-01 00:53:21</td>\n",
       "      <td>2022-01-01 01:02:19</td>\n",
       "      <td>8.966667</td>\n",
       "    </tr>\n",
       "    <tr>\n",
       "      <th>3</th>\n",
       "      <td>2</td>\n",
       "      <td>2022-01-01 00:25:21</td>\n",
       "      <td>2022-01-01 00:35:23</td>\n",
       "      <td>10.033333</td>\n",
       "    </tr>\n",
       "    <tr>\n",
       "      <th>4</th>\n",
       "      <td>2</td>\n",
       "      <td>2022-01-01 00:36:48</td>\n",
       "      <td>2022-01-01 01:14:20</td>\n",
       "      <td>37.533333</td>\n",
       "    </tr>\n",
       "  </tbody>\n",
       "</table>\n",
       "</div>"
      ],
      "text/plain": [
       "   VendorID tpep_pickup_datetime tpep_dropoff_datetime   duration\n",
       "0         1  2022-01-01 00:35:40   2022-01-01 00:53:29  17.816667\n",
       "1         1  2022-01-01 00:33:43   2022-01-01 00:42:07   8.400000\n",
       "2         2  2022-01-01 00:53:21   2022-01-01 01:02:19   8.966667\n",
       "3         2  2022-01-01 00:25:21   2022-01-01 00:35:23  10.033333\n",
       "4         2  2022-01-01 00:36:48   2022-01-01 01:14:20  37.533333"
      ]
     },
     "execution_count": 54,
     "metadata": {},
     "output_type": "execute_result"
    }
   ],
   "source": [
    "df[[\"VendorID\", \"tpep_pickup_datetime\", \"tpep_dropoff_datetime\", \"duration\"]].head()"
   ]
  },
  {
   "cell_type": "code",
   "execution_count": 55,
   "id": "e42a17ce-1f2f-42f6-b1c3-5f407568f4d8",
   "metadata": {},
   "outputs": [
    {
     "data": {
      "text/plain": [
       "count    2463931.00\n",
       "mean          14.21\n",
       "std           46.45\n",
       "min        -3442.40\n",
       "1%             0.58\n",
       "50%           10.18\n",
       "99%           50.85\n",
       "max         8513.18\n",
       "Name: duration, dtype: float64"
      ]
     },
     "execution_count": 55,
     "metadata": {},
     "output_type": "execute_result"
    }
   ],
   "source": [
    "# Question 2\n",
    "df[\"duration\"].describe(percentiles=[0.01, 0.99]).round(2)"
   ]
  },
  {
   "cell_type": "code",
   "execution_count": 56,
   "id": "19c64fb1-cefe-4aed-943e-1fb73b03cddb",
   "metadata": {},
   "outputs": [],
   "source": [
    "all_records = df.shape[0]"
   ]
  },
  {
   "cell_type": "code",
   "execution_count": 87,
   "id": "00df0769-fb26-43ad-ae82-04005f1349d5",
   "metadata": {},
   "outputs": [],
   "source": [
    "df = df.query(\"duration>=1 and duration<=60\")"
   ]
  },
  {
   "cell_type": "code",
   "execution_count": 88,
   "id": "2e7cd014-c466-44d9-8ad0-46d1d3eeaaba",
   "metadata": {},
   "outputs": [
    {
     "data": {
      "text/plain": [
       "98.27547930522405"
      ]
     },
     "execution_count": 88,
     "metadata": {},
     "output_type": "execute_result"
    }
   ],
   "source": [
    "# Question 3 \n",
    "df.shape[0]/all_records * 100"
   ]
  },
  {
   "cell_type": "code",
   "execution_count": 96,
   "id": "23689665-157d-4ae1-bb9c-55b8f5c383b4",
   "metadata": {},
   "outputs": [
    {
     "data": {
      "text/plain": [
       "VendorID                          int64\n",
       "tpep_pickup_datetime     datetime64[ns]\n",
       "tpep_dropoff_datetime    datetime64[ns]\n",
       "passenger_count                 float64\n",
       "trip_distance                   float64\n",
       "RatecodeID                      float64\n",
       "store_and_fwd_flag               object\n",
       "PULocationID                      int64\n",
       "DOLocationID                      int64\n",
       "payment_type                      int64\n",
       "fare_amount                     float64\n",
       "extra                           float64\n",
       "mta_tax                         float64\n",
       "tip_amount                      float64\n",
       "tolls_amount                    float64\n",
       "improvement_surcharge           float64\n",
       "total_amount                    float64\n",
       "congestion_surcharge            float64\n",
       "airport_fee                     float64\n",
       "duration                        float64\n",
       "dtype: object"
      ]
     },
     "execution_count": 96,
     "metadata": {},
     "output_type": "execute_result"
    }
   ],
   "source": [
    "df.dtypes"
   ]
  },
  {
   "cell_type": "code",
   "execution_count": 119,
   "id": "d89a7335-bc01-4ba1-bb1a-cada8f12806e",
   "metadata": {},
   "outputs": [],
   "source": [
    "categorical = [\"PULocationID\", \"DOLocationID\"]"
   ]
  },
  {
   "cell_type": "code",
   "execution_count": 97,
   "id": "5b241783-30ff-4eaa-806a-4b5ebc249cd9",
   "metadata": {},
   "outputs": [],
   "source": [
    "for x in categorical:\n",
    "    df[x] = df[x].astype(str)"
   ]
  },
  {
   "cell_type": "code",
   "execution_count": 98,
   "id": "7e515958-6537-44e8-9f21-694ee8cb1e5e",
   "metadata": {},
   "outputs": [],
   "source": [
    "dv = DictVectorizer()"
   ]
  },
  {
   "cell_type": "code",
   "execution_count": 99,
   "id": "f3b190f3-7560-49ac-ac33-5454378a4426",
   "metadata": {},
   "outputs": [],
   "source": [
    "train_dict = df[categorical].to_dict(orient=\"records\")"
   ]
  },
  {
   "cell_type": "code",
   "execution_count": 100,
   "id": "4bdd751d-7eca-48b8-8252-50873f929e7b",
   "metadata": {},
   "outputs": [],
   "source": [
    "dv = DictVectorizer()"
   ]
  },
  {
   "cell_type": "code",
   "execution_count": 110,
   "id": "a22a2d45-e269-495e-ac2a-0751860e5c4b",
   "metadata": {},
   "outputs": [],
   "source": [
    "X_train = dv.fit_transform(train_dict)\n",
    "y_train = df.duration.values"
   ]
  },
  {
   "cell_type": "code",
   "execution_count": 111,
   "id": "ffe93848-8ecd-4044-9aea-76165c1df6d2",
   "metadata": {},
   "outputs": [
    {
     "data": {
      "text/plain": [
       "515"
      ]
     },
     "execution_count": 111,
     "metadata": {},
     "output_type": "execute_result"
    }
   ],
   "source": [
    "# Question 4 \n",
    "len(dv.feature_names_)"
   ]
  },
  {
   "cell_type": "code",
   "execution_count": 117,
   "id": "31ca29aa-3688-48c6-83bb-841f4289ad4f",
   "metadata": {},
   "outputs": [
    {
     "data": {
      "text/plain": [
       "6.986190841034851"
      ]
     },
     "execution_count": 117,
     "metadata": {},
     "output_type": "execute_result"
    }
   ],
   "source": [
    "# Question 5 \n",
    "lr = LinearRegression()\n",
    "lr.fit(X_train, y_train)\n",
    "\n",
    "y_pred = lr.predict(X_train)\n",
    "\n",
    "mean_squared_error(y_train, y_pred, squared=False)"
   ]
  },
  {
   "cell_type": "code",
   "execution_count": 120,
   "id": "bbb42b4b-6f13-4b06-8a13-b899a0bc1f00",
   "metadata": {},
   "outputs": [],
   "source": [
    "categorical = [\"PULocationID\", \"DOLocationID\"]\n",
    "\n",
    "def transform_df(data):\n",
    "    df = pd.read_parquet(data)\n",
    "    \n",
    "    df[\"duration\"] = (df[\"tpep_dropoff_datetime\"] - df[\"tpep_pickup_datetime\"])\n",
    "    df[\"duration\"] = df[\"duration\"].apply(lambda x:x.total_seconds() / 60)\n",
    "    df = df.query(\"duration>=1 and duration<=60\")\n",
    "    \n",
    "    for x in categorical:\n",
    "        df[x] = df[x].astype(str)\n",
    "        \n",
    "    return df "
   ]
  },
  {
   "cell_type": "code",
   "execution_count": 123,
   "id": "9b10bb44-2d28-4b78-9b0e-80d273f53ab4",
   "metadata": {},
   "outputs": [],
   "source": [
    "df_2 = transform_df(\"yellow_tripdata_2022-02.parquet\")"
   ]
  },
  {
   "cell_type": "code",
   "execution_count": 125,
   "id": "07bcda76-eba0-4aae-b586-ecc030c4b7aa",
   "metadata": {},
   "outputs": [],
   "source": [
    "val_dict = df_2[categorical].to_dict(orient=\"records\")"
   ]
  },
  {
   "cell_type": "code",
   "execution_count": 126,
   "id": "c3b6c4c3-0a24-43be-a889-05017ec2fe29",
   "metadata": {},
   "outputs": [],
   "source": [
    "X_val = dv.transform(val_dict)\n",
    "y_val = df_2.duration.values"
   ]
  },
  {
   "cell_type": "code",
   "execution_count": 127,
   "id": "2e2baefa-3966-4881-ac54-782991e14d44",
   "metadata": {},
   "outputs": [
    {
     "data": {
      "text/plain": [
       "7.786408695263233"
      ]
     },
     "execution_count": 127,
     "metadata": {},
     "output_type": "execute_result"
    }
   ],
   "source": [
    "# Question 6 \n",
    "y_pred = lr.predict(X_val)\n",
    "\n",
    "mean_squared_error(y_val, y_pred, squared=False)"
   ]
  }
 ],
 "metadata": {
  "kernelspec": {
   "display_name": "Python 3 (ipykernel)",
   "language": "python",
   "name": "python3"
  },
  "language_info": {
   "codemirror_mode": {
    "name": "ipython",
    "version": 3
   },
   "file_extension": ".py",
   "mimetype": "text/x-python",
   "name": "python",
   "nbconvert_exporter": "python",
   "pygments_lexer": "ipython3",
   "version": "3.8.10"
  }
 },
 "nbformat": 4,
 "nbformat_minor": 5
}
